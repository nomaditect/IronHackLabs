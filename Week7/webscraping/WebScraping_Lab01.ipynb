{
 "cells": [
  {
   "cell_type": "markdown",
   "id": "273dc65e",
   "metadata": {},
   "source": [
    "# Webscraping | Lab01 | Billboard 100\n"
   ]
  },
  {
   "cell_type": "code",
   "execution_count": 1,
   "id": "0997bb3f",
   "metadata": {},
   "outputs": [],
   "source": [
    "#Import needed libraries - BeautifulSoup\n",
    "from bs4 import BeautifulSoup\n",
    "import pandas as pd\n",
    "import re\n",
    "import requests"
   ]
  },
  {
   "cell_type": "code",
   "execution_count": 3,
   "metadata": {},
   "outputs": [],
   "source": [
    "url = \"https://www.billboard.com/charts/hot-100\""
   ]
  },
  {
   "cell_type": "code",
   "execution_count": 4,
   "metadata": {},
   "outputs": [],
   "source": [
    "response = requests.get(url)"
   ]
  },
  {
   "cell_type": "code",
   "execution_count": 5,
   "metadata": {},
   "outputs": [],
   "source": [
    "soup = BeautifulSoup(response.content, \"html.parser\")"
   ]
  },
  {
   "cell_type": "code",
   "execution_count": 6,
   "id": "0f5c8333",
   "metadata": {},
   "outputs": [
    {
     "data": {
      "text/plain": [
       "200"
      ]
     },
     "execution_count": 6,
     "metadata": {},
     "output_type": "execute_result"
    }
   ],
   "source": [
    "#check response status code \n",
    "response.status_code"
   ]
  },
  {
   "cell_type": "code",
   "execution_count": 7,
   "id": "2497ab30",
   "metadata": {},
   "outputs": [],
   "source": [
    "#parse and store the contents of the url call\n",
    "soup=BeautifulSoup(response.content,'html.parser')"
   ]
  },
  {
   "cell_type": "code",
   "execution_count": 8,
   "id": "falling-helicopter",
   "metadata": {},
   "outputs": [],
   "source": [
    "#prettify the soup \n",
    "#print(soup.prettify())"
   ]
  },
  {
   "cell_type": "markdown",
   "id": "dd045694",
   "metadata": {},
   "source": [
    "## Query the soup for songname + artist"
   ]
  },
  {
   "cell_type": "code",
   "execution_count": 9,
   "id": "e943384d",
   "metadata": {},
   "outputs": [
    {
     "data": {
      "text/plain": [
       "\"\\nAll Too Well (Taylor's Version)\\n\""
      ]
     },
     "execution_count": 9,
     "metadata": {},
     "output_type": "execute_result"
    }
   ],
   "source": [
    "soup.select('li #title-of-a-story')[0].text"
   ]
  },
  {
   "cell_type": "code",
   "execution_count": 10,
   "metadata": {},
   "outputs": [
    {
     "data": {
      "text/plain": [
       "'\\nTaylor Swift\\n'"
      ]
     },
     "execution_count": 10,
     "metadata": {},
     "output_type": "execute_result"
    }
   ],
   "source": [
    "soup.select(\"li.o-chart-results-list__item.\\\\/\\\\/.lrv-u-flex-grow-1.lrv-u-flex.lrv-u-flex-direction-column.lrv-u-justify-content-center.lrv-u-border-b-1.u-border-b-0\\\\@mobile-max.lrv-u-border-color-grey-light.lrv-u-padding-l-1\\\\@mobile-max > span\")[0].text"
   ]
  },
  {
   "cell_type": "code",
   "execution_count": null,
   "metadata": {},
   "outputs": [],
   "source": []
  },
  {
   "cell_type": "code",
   "execution_count": 11,
   "id": "2aaba711",
   "metadata": {},
   "outputs": [
    {
     "data": {
      "text/plain": [
       "100"
      ]
     },
     "execution_count": 11,
     "metadata": {},
     "output_type": "execute_result"
    }
   ],
   "source": [
    "## install tqqm.notebook using conda install -c conda-forge tqdm\n",
    "song_name=[]\n",
    "artist=[]\n",
    "\n",
    "\n",
    "top100=len(soup.select('li #title-of-a-story'))\n",
    "top100"
   ]
  },
  {
   "cell_type": "code",
   "execution_count": 12,
   "id": "5743d9b5",
   "metadata": {},
   "outputs": [],
   "source": [
    "from tqdm.notebook import tqdm"
   ]
  },
  {
   "cell_type": "code",
   "execution_count": 13,
   "id": "af8accb4",
   "metadata": {},
   "outputs": [
    {
     "data": {
      "application/vnd.jupyter.widget-view+json": {
       "model_id": "11ce138c8f3f41e29dd845648847bbc1",
       "version_major": 2,
       "version_minor": 0
      },
      "text/plain": [
       "  0%|          | 0/100 [00:00<?, ?it/s]"
      ]
     },
     "metadata": {},
     "output_type": "display_data"
    }
   ],
   "source": [
    "for i in tqdm(range(top100)):\n",
    "    song_name.append(soup.select('li h3')[i].text)\n",
    "    artist.append(soup.select(\"li.o-chart-results-list__item.\\\\/\\\\/.lrv-u-flex-grow-1.lrv-u-flex.lrv-u-flex-direction-column.lrv-u-justify-content-center.lrv-u-border-b-1.u-border-b-0\\\\@mobile-max.lrv-u-border-color-grey-light.lrv-u-padding-l-1\\\\@mobile-max > span\")[i].text)\n"
   ]
  },
  {
   "cell_type": "code",
   "execution_count": 14,
   "id": "9ad67912",
   "metadata": {},
   "outputs": [],
   "source": [
    "df=pd.DataFrame({'song_name':song_name,'artist':artist})"
   ]
  },
  {
   "cell_type": "code",
   "execution_count": 15,
   "metadata": {},
   "outputs": [
    {
     "data": {
      "text/html": [
       "<div>\n",
       "<style scoped>\n",
       "    .dataframe tbody tr th:only-of-type {\n",
       "        vertical-align: middle;\n",
       "    }\n",
       "\n",
       "    .dataframe tbody tr th {\n",
       "        vertical-align: top;\n",
       "    }\n",
       "\n",
       "    .dataframe thead th {\n",
       "        text-align: right;\n",
       "    }\n",
       "</style>\n",
       "<table border=\"1\" class=\"dataframe\">\n",
       "  <thead>\n",
       "    <tr style=\"text-align: right;\">\n",
       "      <th></th>\n",
       "      <th>song_name</th>\n",
       "      <th>artist</th>\n",
       "    </tr>\n",
       "  </thead>\n",
       "  <tbody>\n",
       "    <tr>\n",
       "      <th>0</th>\n",
       "      <td>\\nAll Too Well (Taylor's Version)\\n</td>\n",
       "      <td>\\nTaylor Swift\\n</td>\n",
       "    </tr>\n",
       "    <tr>\n",
       "      <th>1</th>\n",
       "      <td>\\nEasy On Me\\n</td>\n",
       "      <td>\\nAdele\\n</td>\n",
       "    </tr>\n",
       "    <tr>\n",
       "      <th>2</th>\n",
       "      <td>\\nStay\\n</td>\n",
       "      <td>\\nThe Kid LAROI &amp; Justin Bieber\\n</td>\n",
       "    </tr>\n",
       "    <tr>\n",
       "      <th>3</th>\n",
       "      <td>\\nIndustry Baby\\n</td>\n",
       "      <td>\\nLil Nas X &amp; Jack Harlow\\n</td>\n",
       "    </tr>\n",
       "    <tr>\n",
       "      <th>4</th>\n",
       "      <td>\\nSmokin Out The Window\\n</td>\n",
       "      <td>\\nSilk Sonic (Bruno Mars &amp; Anderson .Paak)\\n</td>\n",
       "    </tr>\n",
       "    <tr>\n",
       "      <th>...</th>\n",
       "      <td>...</td>\n",
       "      <td>...</td>\n",
       "    </tr>\n",
       "    <tr>\n",
       "      <th>95</th>\n",
       "      <td>\\nMoth To A Flame\\n</td>\n",
       "      <td>\\nSwedish House Mafia &amp; The Weeknd\\n</td>\n",
       "    </tr>\n",
       "    <tr>\n",
       "      <th>96</th>\n",
       "      <td>\\n'Til You Can't\\n</td>\n",
       "      <td>\\nCody Johnson\\n</td>\n",
       "    </tr>\n",
       "    <tr>\n",
       "      <th>97</th>\n",
       "      <td>\\nWoman\\n</td>\n",
       "      <td>\\nDoja Cat\\n</td>\n",
       "    </tr>\n",
       "    <tr>\n",
       "      <th>98</th>\n",
       "      <td>\\nTake My Breath\\n</td>\n",
       "      <td>\\nThe Weeknd\\n</td>\n",
       "    </tr>\n",
       "    <tr>\n",
       "      <th>99</th>\n",
       "      <td>\\nFor Tonight\\n</td>\n",
       "      <td>\\nGiveon\\n</td>\n",
       "    </tr>\n",
       "  </tbody>\n",
       "</table>\n",
       "<p>100 rows × 2 columns</p>\n",
       "</div>"
      ],
      "text/plain": [
       "                              song_name  \\\n",
       "0   \\nAll Too Well (Taylor's Version)\\n   \n",
       "1                        \\nEasy On Me\\n   \n",
       "2                              \\nStay\\n   \n",
       "3                     \\nIndustry Baby\\n   \n",
       "4             \\nSmokin Out The Window\\n   \n",
       "..                                  ...   \n",
       "95                  \\nMoth To A Flame\\n   \n",
       "96                   \\n'Til You Can't\\n   \n",
       "97                            \\nWoman\\n   \n",
       "98                   \\nTake My Breath\\n   \n",
       "99                      \\nFor Tonight\\n   \n",
       "\n",
       "                                          artist  \n",
       "0                               \\nTaylor Swift\\n  \n",
       "1                                      \\nAdele\\n  \n",
       "2              \\nThe Kid LAROI & Justin Bieber\\n  \n",
       "3                    \\nLil Nas X & Jack Harlow\\n  \n",
       "4   \\nSilk Sonic (Bruno Mars & Anderson .Paak)\\n  \n",
       "..                                           ...  \n",
       "95          \\nSwedish House Mafia & The Weeknd\\n  \n",
       "96                              \\nCody Johnson\\n  \n",
       "97                                  \\nDoja Cat\\n  \n",
       "98                                \\nThe Weeknd\\n  \n",
       "99                                    \\nGiveon\\n  \n",
       "\n",
       "[100 rows x 2 columns]"
      ]
     },
     "execution_count": 15,
     "metadata": {},
     "output_type": "execute_result"
    }
   ],
   "source": [
    "df"
   ]
  },
  {
   "cell_type": "code",
   "execution_count": 16,
   "metadata": {},
   "outputs": [],
   "source": [
    "artist1 = df['artist']\n",
    "songname = df['song_name']\n",
    "artist2 = []\n",
    "songname2= []\n",
    "\n",
    "for element in artist1:\n",
    "    artist2.append(element.strip('\\n'))\n",
    "    \n",
    "for element in songname:\n",
    "    songname2.append(element.strip('\\n'))\n",
    "  "
   ]
  },
  {
   "cell_type": "markdown",
   "id": "32cbb20d",
   "metadata": {},
   "source": [
    "## Create data frame "
   ]
  },
  {
   "cell_type": "code",
   "execution_count": 17,
   "id": "48392c55",
   "metadata": {},
   "outputs": [],
   "source": [
    "top100=pd.DataFrame({'artist':artist2,'song_name':songname2})"
   ]
  },
  {
   "cell_type": "code",
   "execution_count": 18,
   "id": "679984f5",
   "metadata": {},
   "outputs": [
    {
     "data": {
      "text/html": [
       "<div>\n",
       "<style scoped>\n",
       "    .dataframe tbody tr th:only-of-type {\n",
       "        vertical-align: middle;\n",
       "    }\n",
       "\n",
       "    .dataframe tbody tr th {\n",
       "        vertical-align: top;\n",
       "    }\n",
       "\n",
       "    .dataframe thead th {\n",
       "        text-align: right;\n",
       "    }\n",
       "</style>\n",
       "<table border=\"1\" class=\"dataframe\">\n",
       "  <thead>\n",
       "    <tr style=\"text-align: right;\">\n",
       "      <th></th>\n",
       "      <th>artist</th>\n",
       "      <th>song_name</th>\n",
       "    </tr>\n",
       "  </thead>\n",
       "  <tbody>\n",
       "    <tr>\n",
       "      <th>0</th>\n",
       "      <td>Taylor Swift</td>\n",
       "      <td>All Too Well (Taylor's Version)</td>\n",
       "    </tr>\n",
       "    <tr>\n",
       "      <th>1</th>\n",
       "      <td>Adele</td>\n",
       "      <td>Easy On Me</td>\n",
       "    </tr>\n",
       "    <tr>\n",
       "      <th>2</th>\n",
       "      <td>The Kid LAROI &amp; Justin Bieber</td>\n",
       "      <td>Stay</td>\n",
       "    </tr>\n",
       "    <tr>\n",
       "      <th>3</th>\n",
       "      <td>Lil Nas X &amp; Jack Harlow</td>\n",
       "      <td>Industry Baby</td>\n",
       "    </tr>\n",
       "    <tr>\n",
       "      <th>4</th>\n",
       "      <td>Silk Sonic (Bruno Mars &amp; Anderson .Paak)</td>\n",
       "      <td>Smokin Out The Window</td>\n",
       "    </tr>\n",
       "    <tr>\n",
       "      <th>...</th>\n",
       "      <td>...</td>\n",
       "      <td>...</td>\n",
       "    </tr>\n",
       "    <tr>\n",
       "      <th>95</th>\n",
       "      <td>Swedish House Mafia &amp; The Weeknd</td>\n",
       "      <td>Moth To A Flame</td>\n",
       "    </tr>\n",
       "    <tr>\n",
       "      <th>96</th>\n",
       "      <td>Cody Johnson</td>\n",
       "      <td>'Til You Can't</td>\n",
       "    </tr>\n",
       "    <tr>\n",
       "      <th>97</th>\n",
       "      <td>Doja Cat</td>\n",
       "      <td>Woman</td>\n",
       "    </tr>\n",
       "    <tr>\n",
       "      <th>98</th>\n",
       "      <td>The Weeknd</td>\n",
       "      <td>Take My Breath</td>\n",
       "    </tr>\n",
       "    <tr>\n",
       "      <th>99</th>\n",
       "      <td>Giveon</td>\n",
       "      <td>For Tonight</td>\n",
       "    </tr>\n",
       "  </tbody>\n",
       "</table>\n",
       "<p>100 rows × 2 columns</p>\n",
       "</div>"
      ],
      "text/plain": [
       "                                      artist                        song_name\n",
       "0                               Taylor Swift  All Too Well (Taylor's Version)\n",
       "1                                      Adele                       Easy On Me\n",
       "2              The Kid LAROI & Justin Bieber                             Stay\n",
       "3                    Lil Nas X & Jack Harlow                    Industry Baby\n",
       "4   Silk Sonic (Bruno Mars & Anderson .Paak)            Smokin Out The Window\n",
       "..                                       ...                              ...\n",
       "95          Swedish House Mafia & The Weeknd                  Moth To A Flame\n",
       "96                              Cody Johnson                   'Til You Can't\n",
       "97                                  Doja Cat                            Woman\n",
       "98                                The Weeknd                   Take My Breath\n",
       "99                                    Giveon                      For Tonight\n",
       "\n",
       "[100 rows x 2 columns]"
      ]
     },
     "execution_count": 18,
     "metadata": {},
     "output_type": "execute_result"
    }
   ],
   "source": [
    "top100"
   ]
  }
 ],
 "metadata": {
  "hide_input": false,
  "kernelspec": {
   "display_name": "Python 3 (ipykernel)",
   "language": "python",
   "name": "python3"
  },
  "language_info": {
   "codemirror_mode": {
    "name": "ipython",
    "version": 3
   },
   "file_extension": ".py",
   "mimetype": "text/x-python",
   "name": "python",
   "nbconvert_exporter": "python",
   "pygments_lexer": "ipython3",
   "version": "3.9.7"
  },
  "toc": {
   "base_numbering": 1,
   "nav_menu": {},
   "number_sections": true,
   "sideBar": true,
   "skip_h1_title": true,
   "title_cell": "Table of Contents",
   "title_sidebar": "Contents",
   "toc_cell": false,
   "toc_position": {
    "height": "calc(100% - 180px)",
    "left": "10px",
    "top": "150px",
    "width": "238.466px"
   },
   "toc_section_display": true,
   "toc_window_display": true
  },
  "varInspector": {
   "cols": {
    "lenName": 16,
    "lenType": 16,
    "lenVar": 40
   },
   "kernels_config": {
    "python": {
     "delete_cmd_postfix": "",
     "delete_cmd_prefix": "del ",
     "library": "var_list.py",
     "varRefreshCmd": "print(var_dic_list())"
    },
    "r": {
     "delete_cmd_postfix": ") ",
     "delete_cmd_prefix": "rm(",
     "library": "var_list.r",
     "varRefreshCmd": "cat(var_dic_list()) "
    }
   },
   "types_to_exclude": [
    "module",
    "function",
    "builtin_function_or_method",
    "instance",
    "_Feature"
   ],
   "window_display": false
  }
 },
 "nbformat": 4,
 "nbformat_minor": 5
}
