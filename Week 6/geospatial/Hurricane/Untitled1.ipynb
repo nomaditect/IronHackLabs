{
 "cells": [
  {
   "cell_type": "code",
   "execution_count": 1,
   "metadata": {},
   "outputs": [],
   "source": [
    "import pandas as pd"
   ]
  },
  {
   "cell_type": "code",
   "execution_count": 8,
   "metadata": {},
   "outputs": [
    {
     "name": "stderr",
     "output_type": "stream",
     "text": [
      "/opt/anaconda3/envs/classenv/lib/python3.9/site-packages/IPython/core/interactiveshell.py:3441: DtypeWarning: Columns (3) have mixed types.Specify dtype option on import or set low_memory=False.\n",
      "  exec(code_obj, self.user_global_ns, self.user_ns)\n"
     ]
    }
   ],
   "source": [
    "df=pd.read_csv('/Users/AFROARC/Documents/GitHub/IronHackLabs/Week 6/storytelling/movement-range-data-2021-11-21/movement-range-2021-11-21.txt', sep ='\\t')"
   ]
  },
  {
   "cell_type": "code",
   "execution_count": 9,
   "metadata": {},
   "outputs": [
    {
     "data": {
      "text/html": [
       "<div>\n",
       "<style scoped>\n",
       "    .dataframe tbody tr th:only-of-type {\n",
       "        vertical-align: middle;\n",
       "    }\n",
       "\n",
       "    .dataframe tbody tr th {\n",
       "        vertical-align: top;\n",
       "    }\n",
       "\n",
       "    .dataframe thead th {\n",
       "        text-align: right;\n",
       "    }\n",
       "</style>\n",
       "<table border=\"1\" class=\"dataframe\">\n",
       "  <thead>\n",
       "    <tr style=\"text-align: right;\">\n",
       "      <th></th>\n",
       "      <th>ds</th>\n",
       "      <th>country</th>\n",
       "      <th>polygon_source</th>\n",
       "      <th>polygon_id</th>\n",
       "      <th>polygon_name</th>\n",
       "      <th>all_day_bing_tiles_visited_relative_change</th>\n",
       "      <th>all_day_ratio_single_tile_users</th>\n",
       "      <th>baseline_name</th>\n",
       "      <th>baseline_type</th>\n",
       "    </tr>\n",
       "  </thead>\n",
       "  <tbody>\n",
       "    <tr>\n",
       "      <th>0</th>\n",
       "      <td>2021-01-01</td>\n",
       "      <td>AGO</td>\n",
       "      <td>GADM</td>\n",
       "      <td>AGO.10.10_1</td>\n",
       "      <td>Lubango</td>\n",
       "      <td>-0.35291</td>\n",
       "      <td>0.25398</td>\n",
       "      <td>full_february</td>\n",
       "      <td>DAY_OF_WEEK</td>\n",
       "    </tr>\n",
       "    <tr>\n",
       "      <th>1</th>\n",
       "      <td>2021-01-02</td>\n",
       "      <td>AGO</td>\n",
       "      <td>GADM</td>\n",
       "      <td>AGO.10.10_1</td>\n",
       "      <td>Lubango</td>\n",
       "      <td>-0.06131</td>\n",
       "      <td>0.17330</td>\n",
       "      <td>full_february</td>\n",
       "      <td>DAY_OF_WEEK</td>\n",
       "    </tr>\n",
       "    <tr>\n",
       "      <th>2</th>\n",
       "      <td>2021-01-03</td>\n",
       "      <td>AGO</td>\n",
       "      <td>GADM</td>\n",
       "      <td>AGO.10.10_1</td>\n",
       "      <td>Lubango</td>\n",
       "      <td>-0.00392</td>\n",
       "      <td>0.21932</td>\n",
       "      <td>full_february</td>\n",
       "      <td>DAY_OF_WEEK</td>\n",
       "    </tr>\n",
       "    <tr>\n",
       "      <th>3</th>\n",
       "      <td>2021-01-04</td>\n",
       "      <td>AGO</td>\n",
       "      <td>GADM</td>\n",
       "      <td>AGO.10.10_1</td>\n",
       "      <td>Lubango</td>\n",
       "      <td>0.15114</td>\n",
       "      <td>0.11662</td>\n",
       "      <td>full_february</td>\n",
       "      <td>DAY_OF_WEEK</td>\n",
       "    </tr>\n",
       "    <tr>\n",
       "      <th>4</th>\n",
       "      <td>2021-01-05</td>\n",
       "      <td>AGO</td>\n",
       "      <td>GADM</td>\n",
       "      <td>AGO.10.10_1</td>\n",
       "      <td>Lubango</td>\n",
       "      <td>0.12696</td>\n",
       "      <td>0.10832</td>\n",
       "      <td>full_february</td>\n",
       "      <td>DAY_OF_WEEK</td>\n",
       "    </tr>\n",
       "  </tbody>\n",
       "</table>\n",
       "</div>"
      ],
      "text/plain": [
       "           ds country polygon_source   polygon_id polygon_name  \\\n",
       "0  2021-01-01     AGO           GADM  AGO.10.10_1      Lubango   \n",
       "1  2021-01-02     AGO           GADM  AGO.10.10_1      Lubango   \n",
       "2  2021-01-03     AGO           GADM  AGO.10.10_1      Lubango   \n",
       "3  2021-01-04     AGO           GADM  AGO.10.10_1      Lubango   \n",
       "4  2021-01-05     AGO           GADM  AGO.10.10_1      Lubango   \n",
       "\n",
       "   all_day_bing_tiles_visited_relative_change  \\\n",
       "0                                    -0.35291   \n",
       "1                                    -0.06131   \n",
       "2                                    -0.00392   \n",
       "3                                     0.15114   \n",
       "4                                     0.12696   \n",
       "\n",
       "   all_day_ratio_single_tile_users  baseline_name baseline_type  \n",
       "0                          0.25398  full_february   DAY_OF_WEEK  \n",
       "1                          0.17330  full_february   DAY_OF_WEEK  \n",
       "2                          0.21932  full_february   DAY_OF_WEEK  \n",
       "3                          0.11662  full_february   DAY_OF_WEEK  \n",
       "4                          0.10832  full_february   DAY_OF_WEEK  "
      ]
     },
     "execution_count": 9,
     "metadata": {},
     "output_type": "execute_result"
    }
   ],
   "source": [
    "df.head()"
   ]
  },
  {
   "cell_type": "code",
   "execution_count": null,
   "metadata": {},
   "outputs": [],
   "source": []
  }
 ],
 "metadata": {
  "hide_input": false,
  "kernelspec": {
   "display_name": "Python 3 (ipykernel)",
   "language": "python",
   "name": "python3"
  },
  "language_info": {
   "codemirror_mode": {
    "name": "ipython",
    "version": 3
   },
   "file_extension": ".py",
   "mimetype": "text/x-python",
   "name": "python",
   "nbconvert_exporter": "python",
   "pygments_lexer": "ipython3",
   "version": "3.9.7"
  },
  "toc": {
   "base_numbering": 1,
   "nav_menu": {},
   "number_sections": true,
   "sideBar": true,
   "skip_h1_title": false,
   "title_cell": "Table of Contents",
   "title_sidebar": "Contents",
   "toc_cell": false,
   "toc_position": {},
   "toc_section_display": true,
   "toc_window_display": false
  },
  "varInspector": {
   "cols": {
    "lenName": 16,
    "lenType": 16,
    "lenVar": 40
   },
   "kernels_config": {
    "python": {
     "delete_cmd_postfix": "",
     "delete_cmd_prefix": "del ",
     "library": "var_list.py",
     "varRefreshCmd": "print(var_dic_list())"
    },
    "r": {
     "delete_cmd_postfix": ") ",
     "delete_cmd_prefix": "rm(",
     "library": "var_list.r",
     "varRefreshCmd": "cat(var_dic_list()) "
    }
   },
   "types_to_exclude": [
    "module",
    "function",
    "builtin_function_or_method",
    "instance",
    "_Feature"
   ],
   "window_display": false
  }
 },
 "nbformat": 4,
 "nbformat_minor": 4
}
